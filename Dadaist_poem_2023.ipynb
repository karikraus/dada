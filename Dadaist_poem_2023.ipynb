{
 "cells": [
  {
   "cell_type": "code",
   "execution_count": null,
   "metadata": {},
   "outputs": [],
   "source": [
    "import random  \n",
    "dada = \"\"\"To Make a Dadaist Poem:\n",
    "Take a newspaper.\n",
    "Take a pair of scissors.\n",
    "Choose an article as long as you are planning to make your poem.\n",
    "Cut out the article.\n",
    "Then cut out each of the words that make up this article and put them in a bag.\n",
    "Shake it gently.\n",
    "Then take out the scraps one after the other in the order in which they left the bag.\n",
    "Copy conscientiously.\n",
    "The poem will be like you.\n",
    "And here are you a writer, infinitely original and endowed with a sensibility that is charming though beyond the understanding of the vulgar.\"\"\"\n",
    "dadawords = dada.split()\n",
    "random.shuffle(dadawords)\n",
    "print(' '.join(dadawords))"
   ]
  },
  {
   "cell_type": "markdown",
   "metadata": {},
   "source": [
    "Exercise: copy and paste the dadaist code from the first cell, above, into a new code cell. Remove the Tristan Tzara poem and replace with your own text (either text you write yourself or else another poem, short newspaper article, etc). Then run the generator with this new text (NB: be careful not to alter the code when you paste in your own text between the triple quotation marks). "
   ]
  },
  {
   "cell_type": "code",
   "execution_count": null,
   "metadata": {},
   "outputs": [],
   "source": [
    "import random  \n",
    "dada = \"\"\"To Make a Dadaist Poem:\n",
    "Take a newspaper.\n",
    "Take a pair of scissors.\n",
    "Choose an article as long as you are planning to make your poem.\n",
    "Cut out the article.\n",
    "Then cut out each of the words that make up this article and put them in a bag.\n",
    "Shake it gently.\n",
    "Then take out the scraps one after the other in the order in which they left the bag.\n",
    "Copy conscientiously.\n",
    "The poem will be like you.\n",
    "And here are you a writer, infinitely original and endowed with a sensibility that is charming though beyond the understanding of the vulgar.\"\"\"\n",
    "dadawords = dada.split()\n",
    "dadachoice = random.choice(dadawords)\n",
    "print(dadachoice)"
   ]
  },
  {
   "cell_type": "code",
   "execution_count": null,
   "metadata": {},
   "outputs": [],
   "source": [
    "import random  \n",
    "dada = \"\"\"To Make a Dadaist Poem:\n",
    "Take a newspaper.\n",
    "Take a pair of scissors.\n",
    "Choose an article as long as you are planning to make your poem.\n",
    "Cut out the article.\n",
    "Then cut out each of the words that make up this article and put them in a bag.\n",
    "Shake it gently.\n",
    "Then take out the scraps one after the other in the order in which they left the bag.\n",
    "Copy conscientiously.\n",
    "The poem will be like you.\n",
    "And here are you a writer, infinitely original and endowed with a sensibility that is charming though beyond the understanding of the vulgar.\"\"\"\n",
    "dadawords = dada.split()\n",
    "randomsample = random.sample(dadawords, 5)\n",
    "print(randomsample)"
   ]
  }
 ],
 "metadata": {
  "kernelspec": {
   "display_name": "Python 3",
   "language": "python",
   "name": "python3"
  },
  "language_info": {
   "codemirror_mode": {
    "name": "ipython",
    "version": 3
   },
   "file_extension": ".py",
   "mimetype": "text/x-python",
   "name": "python",
   "nbconvert_exporter": "python",
   "pygments_lexer": "ipython3",
   "version": "3.7.6"
  }
 },
 "nbformat": 4,
 "nbformat_minor": 4
}
